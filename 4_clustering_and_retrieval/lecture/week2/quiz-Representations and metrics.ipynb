{
 "cells": [
  {
   "cell_type": "markdown",
   "metadata": {},
   "source": [
    "# Representations and metrics"
   ]
  },
  {
   "cell_type": "markdown",
   "metadata": {},
   "source": [
    "# Question 1\n",
    "\n",
    "<img src=\"images/Screen Shot 2016-07-02 at 9.34.11 AM.png\">\n",
    "\n",
    "*Screenshot taken from [Coursera](https://www.coursera.org/learn/ml-clustering-and-retrieval/exam/YV0W4/representations-and-metrics)*\n",
    "\n",
    "<!--TEASER_END-->"
   ]
  },
  {
   "cell_type": "markdown",
   "metadata": {},
   "source": [
    "**Answer**\n",
    "- https://www.coursera.org/learn/ml-clustering-and-retrieval/discussions/weeks/2/threads/yoIkdz9XEeaQYwrcKTQWAQ\n",
    "- The coordinate differences get squared before scaling, so the amount of variations gets squared too"
   ]
  },
  {
   "cell_type": "code",
   "execution_count": 13,
   "metadata": {
    "collapsed": false
   },
   "outputs": [
    {
     "name": "stdout",
     "output_type": "stream",
     "text": [
      "1.6e-11\n",
      "0.25\n",
      "6.25e-06\n"
     ]
    }
   ],
   "source": [
    "def calculate_weight(feature):\n",
    "    weight = (1/(max(feature) - min(feature))) ** 2\n",
    "    return weight\n",
    "\n",
    "price = calculate_weight(np.array([500000, 350000, 600000, 400000],  dtype=float))\n",
    "room = calculate_weight(np.array([3, 2, 4, 2],  dtype=float))\n",
    "lot = calculate_weight(np.array([1840, 1600, 2000, 1900],  dtype=float))\n",
    "\n",
    "print price\n",
    "print room\n",
    "print lot"
   ]
  },
  {
   "cell_type": "markdown",
   "metadata": {},
   "source": [
    "# Question 2\n",
    "\n",
    "<img src=\"images/Screen Shot 2016-07-02 at 9.39.55 AM.png\">\n",
    "\n",
    "*Screenshot taken from [Coursera](https://www.coursera.org/learn/ml-clustering-and-retrieval/exam/YV0W4/representations-and-metrics)*\n",
    "\n",
    "<!--TEASER_END-->"
   ]
  },
  {
   "cell_type": "markdown",
   "metadata": {},
   "source": [
    "**Answer**\n",
    "- Word counts\n",
    "    - Sentence 1: [2, 1, 1, 1, 1, 1, 1, 1, 0]\n",
    "    - Sentence 2: [0, 2, 1, 1, 0, 1, 0, 1, 2]\n",
    "- Euclidean distance:"
   ]
  },
  {
   "cell_type": "code",
   "execution_count": 16,
   "metadata": {
    "collapsed": false
   },
   "outputs": [
    {
     "name": "stdout",
     "output_type": "stream",
     "text": [
      "[ 2.  1.  1.  1.  1.  1.  1.  1.  0.  0.]\n",
      "[ 0.  2.  1.  1.  0.  0.  0.  1.  2.  1.]\n"
     ]
    },
    {
     "data": {
      "text/plain": [
       "3.6055512754639891"
      ]
     },
     "execution_count": 16,
     "metadata": {},
     "output_type": "execute_result"
    }
   ],
   "source": [
    "import numpy as np\n",
    "\n",
    "s1 = np.array([2, 1, 1, 1, 1, 1, 1, 1, 0, 0], dtype=float)\n",
    "s2 = np.array([0, 2, 1, 1, 0, 0, 0, 1, 2, 1], dtype=float)\n",
    "print s1\n",
    "print s2\n",
    "\n",
    "euclidean_distance = np.sqrt(np.sum((s1 - s2)**2))\n",
    "euclidean_distance"
   ]
  },
  {
   "cell_type": "markdown",
   "metadata": {},
   "source": [
    "# Question 3\n",
    "\n",
    "<img src=\"images/Screen Shot 2016-07-02 at 9.39.59 AM.png\">\n",
    "\n",
    "*Screenshot taken from [Coursera](https://www.coursera.org/learn/ml-clustering-and-retrieval/exam/YV0W4/representations-and-metrics)*\n",
    "\n",
    "<!--TEASER_END-->"
   ]
  },
  {
   "cell_type": "code",
   "execution_count": 17,
   "metadata": {
    "collapsed": false
   },
   "outputs": [
    {
     "name": "stdout",
     "output_type": "stream",
     "text": [
      "[ 2.  1.  1.  1.  1.  1.  1.  1.  0.  0.]\n",
      "[ 0.  2.  1.  1.  0.  0.  0.  1.  2.  1.]\n"
     ]
    },
    {
     "data": {
      "text/plain": [
       "0.5648058601107554"
      ]
     },
     "execution_count": 17,
     "metadata": {},
     "output_type": "execute_result"
    }
   ],
   "source": [
    "import numpy as np\n",
    "\n",
    "s1 = np.array([2, 1, 1, 1, 1, 1, 1, 1, 0, 0], dtype=float)\n",
    "s2 = np.array([0, 2, 1, 1, 0, 0, 0, 1, 2, 1], dtype=float)\n",
    "print s1\n",
    "print s2\n",
    "cosine_similarity = np.dot(s1, s2)/(np.sqrt(np.sum(s1**2)) * np.sqrt(np.sum(s2**2)))\n",
    "cosine_distance = 1 - cosine_similarity\n",
    "cosine_distance"
   ]
  },
  {
   "cell_type": "markdown",
   "metadata": {},
   "source": [
    "# Question 4\n",
    "\n",
    "<img src=\"images/Screen Shot 2016-07-02 at 9.23.00 AM.png\">\n",
    "\n",
    "*Screenshot taken from [Coursera](https://www.coursera.org/learn/ml-clustering-and-retrieval/exam/YV0W4/representations-and-metrics)*\n",
    "\n",
    "<!--TEASER_END-->"
   ]
  },
  {
   "cell_type": "markdown",
   "metadata": {},
   "source": [
    "# Question 5\n",
    "\n",
    "<img src=\"images/Screen Shot 2016-07-02 at 9.40.07 AM.png\">\n",
    "\n",
    "*Screenshot taken from [Coursera](https://www.coursera.org/learn/ml-clustering-and-retrieval/exam/YV0W4/representations-and-metrics)*\n",
    "\n",
    "<!--TEASER_END-->"
   ]
  },
  {
   "cell_type": "markdown",
   "metadata": {},
   "source": [
    "**Answer**\n",
    "- Given the number of documents, $tf*idf$ = 0, so idf = 0\n",
    "\n",
    "$$idf = \\large log \\frac{\\text{# docs}}{\\text{1 + # docs}} = 0$$\n",
    "$$\\large \\frac{\\text{# docs}}{\\text{1 + # docs}} = e^0 = 1$$\n"
   ]
  },
  {
   "cell_type": "markdown",
   "metadata": {},
   "source": [
    "# Question 6\n",
    "\n",
    "<img src=\"images/Screen Shot 2016-07-02 at 9.40.22 AM.png\">\n",
    "\n",
    "*Screenshot taken from [Coursera](https://www.coursera.org/learn/ml-clustering-and-retrieval/exam/YV0W4/representations-and-metrics)*\n",
    "\n",
    "<!--TEASER_END-->"
   ]
  }
 ],
 "metadata": {
  "kernelspec": {
   "display_name": "Python 2",
   "language": "python",
   "name": "python2"
  },
  "language_info": {
   "codemirror_mode": {
    "name": "ipython",
    "version": 2
   },
   "file_extension": ".py",
   "mimetype": "text/x-python",
   "name": "python",
   "nbconvert_exporter": "python",
   "pygments_lexer": "ipython2",
   "version": "2.7.11"
  },
  "toc": {
   "toc_cell": false,
   "toc_number_sections": false,
   "toc_threshold": "8",
   "toc_window_display": false
  }
 },
 "nbformat": 4,
 "nbformat_minor": 0
}
