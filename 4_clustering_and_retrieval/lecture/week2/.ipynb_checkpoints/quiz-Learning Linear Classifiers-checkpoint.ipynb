{
 "cells": [
  {
   "cell_type": "markdown",
   "metadata": {},
   "source": [
    "# Learning Linear Classifiers"
   ]
  },
  {
   "cell_type": "markdown",
   "metadata": {},
   "source": [
    "# Question 1"
   ]
  },
  {
   "cell_type": "markdown",
   "metadata": {},
   "source": [
    "<img src=\"images/lec2_pic01.png\">\n",
    "\n",
    "*Screenshot taken from [Coursera](https://www.coursera.org/learn/ml-classification/exam/5MWIa/learning-linear-classifiers)*\n",
    "\n",
    "<!--TEASER_END-->"
   ]
  },
  {
   "cell_type": "markdown",
   "metadata": {},
   "source": [
    "# Question 2"
   ]
  },
  {
   "cell_type": "markdown",
   "metadata": {},
   "source": [
    "<img src=\"images/lec2_pic02.png\">\n",
    "\n",
    "*Screenshot taken from [Coursera](https://www.coursera.org/learn/ml-classification/exam/5MWIa/learning-linear-classifiers)*\n",
    "\n",
    "<!--TEASER_END-->"
   ]
  },
  {
   "cell_type": "markdown",
   "metadata": {},
   "source": [
    "# Question 3"
   ]
  },
  {
   "cell_type": "markdown",
   "metadata": {},
   "source": [
    "<img src=\"images/lec2_pic03.png\">\n",
    "\n",
    "*Screenshot taken from [Coursera](https://www.coursera.org/learn/ml-classification/exam/5MWIa/learning-linear-classifiers)*\n",
    "\n",
    "<!--TEASER_END-->"
   ]
  },
  {
   "cell_type": "markdown",
   "metadata": {},
   "source": [
    "# Question 4"
   ]
  },
  {
   "cell_type": "markdown",
   "metadata": {},
   "source": [
    "<img src=\"images/lec2_pic04.png\">\n",
    "<img src=\"images/lec2_pic04-00.png\">\n",
    "<img src=\"images/lec2_pic04-001.png\">\n",
    "\n",
    "*Screenshot taken from [Coursera](https://www.coursera.org/learn/ml-classification/exam/5MWIa/learning-linear-classifiers)*\n",
    "\n",
    "<!--TEASER_END-->"
   ]
  },
  {
   "cell_type": "code",
   "execution_count": 28,
   "metadata": {
    "collapsed": true
   },
   "outputs": [],
   "source": [
    "import numpy as np"
   ]
  },
  {
   "cell_type": "code",
   "execution_count": 64,
   "metadata": {
    "collapsed": false
   },
   "outputs": [
    {
     "name": "stdout",
     "output_type": "stream",
     "text": [
      "[ 0.92414182  0.57444252  0.94267582  0.62245933]\n",
      "Indicator:  [ True False  True  True]\n",
      "Probability of +1:  [ 0.92414182  0.57444252  0.94267582  0.62245933]\n",
      "Maximum likelihood:  [ 0.92414182  0.42555748  0.94267582  0.62245933]\n",
      "0.230765141474\n"
     ]
    }
   ],
   "source": [
    "dummy_feature_matrix = np.array([[1.,2.5], [1.,0.3], [1.,2.8], [1.,0.5]])\n",
    "dummy_coefficients = np.array([0., 1.])\n",
    "sentiment = np.array([1., -1., 1., 1.])\n",
    "\n",
    "def predict_probability(feature_matrix, coefficients):\n",
    "    # Take dot product of feature_matrix and coefficients  \n",
    "    # YOUR CODE HERE\n",
    "    scores = np.dot(feature_matrix, coefficients)\n",
    "    \n",
    "    # Compute P(y_i = +1 | x_i, w) using the link function\n",
    "    # YOUR CODE HERE\n",
    "    predictions = 1. / (1 + np.exp(-scores))\n",
    "    \n",
    "    # return predictions\n",
    "    return predictions\n",
    "\n",
    "def compute_data_likelihood(sentiment, probability):\n",
    "    indicator = (sentiment==+1)  \n",
    "    print \"Indicator: \", indicator\n",
    "    \n",
    "    print \"Probability of +1: \", probability\n",
    "    \n",
    "    # probability of (-1)= (1 - probability of +1)\n",
    "    probability[~indicator] = 1 - probability[~indicator]\n",
    "    print \"Maximum likelihood: \", probability\n",
    "    return np.prod(probability)\n",
    "\n",
    "\n",
    "probability = predict_probability(dummy_feature_matrix, dummy_coefficients)\n",
    "print probability\n",
    "\n",
    "data_likelihood = compute_data_likelihood(sentiment, probability)\n",
    "print data_likelihood"
   ]
  },
  {
   "cell_type": "markdown",
   "metadata": {},
   "source": [
    "# Question 5"
   ]
  },
  {
   "cell_type": "markdown",
   "metadata": {},
   "source": [
    "<img src=\"images/lec2_pic05.png\">\n",
    "\n",
    "*Screenshot taken from [Coursera](https://www.coursera.org/learn/ml-classification/exam/5MWIa/learning-linear-classifiers)*\n",
    "\n",
    "<!--TEASER_END-->"
   ]
  },
  {
   "cell_type": "markdown",
   "metadata": {},
   "source": [
    "**Watch this video for more info**\n",
    "\n",
    "https://www.coursera.org/learn/ml-classification/lecture/UEmJg/example-of-computing-derivative-for-logistic-regression"
   ]
  },
  {
   "cell_type": "code",
   "execution_count": 65,
   "metadata": {
    "collapsed": false
   },
   "outputs": [
    {
     "name": "stdout",
     "output_type": "stream",
     "text": [
      "[ 0.92414182  0.57444252  0.94267582  0.62245933]\n",
      "Indicator:  [ True False  True  True]\n",
      "Contribution:  [ 0.18964545 -0.17233276  0.16050769  0.18877033]\n"
     ]
    },
    {
     "data": {
      "text/plain": [
       "0.36659072192551606"
      ]
     },
     "execution_count": 65,
     "metadata": {},
     "output_type": "execute_result"
    }
   ],
   "source": [
    "def compute_derivative_log_likelihood(feature_vector, sentiment, probability):\n",
    "    \"\"\" Compute derivative of feature vector\n",
    "    - In this case, the feature vector with respect to w1\n",
    "    \"\"\"\n",
    "    indicator = (sentiment==+1)   \n",
    "    print \"Indicator: \", indicator       \n",
    "    \n",
    "    # Contribution to derivative for w1    \n",
    "    contribution =  feature_vector * (indicator - probability)\n",
    "    print \"Contribution: \", contribution\n",
    "    \n",
    "    return np.sum(contribution)   \n",
    "\n",
    "probability = predict_probability(dummy_feature_matrix, dummy_coefficients)\n",
    "print probability\n",
    "\n",
    "# In this case, the feature vector (dummy_feature_matrix[:, 1]) with respect to w1\n",
    "compute_derivative_log_likelihood(dummy_feature_matrix[:, 1], sentiment, probability)"
   ]
  },
  {
   "cell_type": "markdown",
   "metadata": {},
   "source": [
    "# Question 6"
   ]
  },
  {
   "cell_type": "markdown",
   "metadata": {},
   "source": [
    "<img src=\"images/lec2_pic06.png\">\n",
    "\n",
    "*Screenshot taken from [Coursera](https://www.coursera.org/learn/ml-classification/exam/5MWIa/learning-linear-classifiers)*\n",
    "\n",
    "<!--TEASER_END-->"
   ]
  }
 ],
 "metadata": {
  "kernelspec": {
   "display_name": "Python 2",
   "language": "python",
   "name": "python2"
  },
  "language_info": {
   "codemirror_mode": {
    "name": "ipython",
    "version": 2
   },
   "file_extension": ".py",
   "mimetype": "text/x-python",
   "name": "python",
   "nbconvert_exporter": "python",
   "pygments_lexer": "ipython2",
   "version": "2.7.10"
  }
 },
 "nbformat": 4,
 "nbformat_minor": 0
}
