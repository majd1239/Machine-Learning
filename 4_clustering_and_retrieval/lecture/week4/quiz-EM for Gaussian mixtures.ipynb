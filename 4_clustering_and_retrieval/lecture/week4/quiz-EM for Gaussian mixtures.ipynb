{
 "cells": [
  {
   "cell_type": "markdown",
   "metadata": {},
   "source": [
    "# EM for Gaussian mixtures"
   ]
  },
  {
   "cell_type": "markdown",
   "metadata": {},
   "source": [
    "# Question 1\n",
    "\n",
    "<img src=\"images/Screen Shot 2016-07-22 at 11.27.34 PM.png\">\n",
    "\n",
    "*Screenshot taken from [Coursera](https://www.coursera.org/learn/ml-clustering-and-retrieval/exam/QVHj1/em-for-gaussian-mixtures)*\n",
    "\n",
    "<!--TEASER_END-->"
   ]
  },
  {
   "cell_type": "markdown",
   "metadata": {},
   "source": [
    "# Question 2\n",
    "\n",
    "<img src=\"images/Screen Shot 2016-07-22 at 10.56.21 PM.png\">\n",
    "\n",
    "*Screenshot taken from [Coursera](https://www.coursera.org/learn/ml-clustering-and-retrieval/exam/QVHj1/em-for-gaussian-mixtures)*\n",
    "\n",
    "<!--TEASER_END-->"
   ]
  },
  {
   "cell_type": "markdown",
   "metadata": {},
   "source": [
    "# Question 3\n",
    "\n",
    "<img src=\"images/Screen Shot 2016-07-22 at 10.56.49 PM.png\">\n",
    "\n",
    "*Screenshot taken from [Coursera](https://www.coursera.org/learn/ml-clustering-and-retrieval/exam/QVHj1/em-for-gaussian-mixtures)*\n",
    "\n",
    "<!--TEASER_END-->"
   ]
  },
  {
   "cell_type": "markdown",
   "metadata": {},
   "source": [
    "# Question 4\n",
    "\n",
    "<img src=\"images/Screen Shot 2016-07-22 at 11.27.39 PM.png\">\n",
    "\n",
    "*Screenshot taken from [Coursera](https://www.coursera.org/learn/ml-clustering-and-retrieval/exam/QVHj1/em-for-gaussian-mixtures)*\n",
    "\n",
    "<!--TEASER_END-->"
   ]
  },
  {
   "cell_type": "markdown",
   "metadata": {},
   "source": [
    "**Answer**\n",
    "\n",
    "- https://www.coursera.org/learn/ml-clustering-and-retrieval/discussions/weeks/4/threads/LbCIn0gBEear2wpBpCdaRw\n",
    "- Its similar to what's been explained in KMeans. The more clusters (or higher the K value), the higher log-likelihood and lesser heterogeneity. For Mixture Models, replace clusters with components and the same principles apply.\n",
    "- The more clusters we have or higher the value of K, lower is the heterogeneity or higher is the homogeneity. Similar thing is true for Gaussian Mixture Models."
   ]
  },
  {
   "cell_type": "markdown",
   "metadata": {},
   "source": [
    "# Question 5\n",
    "\n",
    "<img src=\"images/Screen Shot 2016-07-22 at 10.57.54 PM.png\">\n",
    "\n",
    "*Screenshot taken from [Coursera](https://www.coursera.org/learn/ml-clustering-and-retrieval/exam/QVHj1/em-for-gaussian-mixtures)*\n",
    "\n",
    "<!--TEASER_END-->"
   ]
  },
  {
   "cell_type": "markdown",
   "metadata": {},
   "source": [
    "# Question 6\n",
    "\n",
    "<img src=\"images/Screen Shot 2016-07-22 at 11.10.15 PM.png\">\n",
    "\n",
    "*Screenshot taken from [Coursera](https://www.coursera.org/learn/ml-clustering-and-retrieval/exam/QVHj1/em-for-gaussian-mixtures)*\n",
    "\n",
    "<!--TEASER_END-->"
   ]
  },
  {
   "cell_type": "markdown",
   "metadata": {},
   "source": [
    "**Answer**\n",
    "\n",
    "- https://www.coursera.org/learn/ml-clustering-and-retrieval/discussions/weeks/4/threads/zP-sDUHmEeaswA4y58BhkQ\n",
    "\n",
    "Number of parameters:\n",
    "    - # of parameters of pi per component = 1\n",
    "    - # of parameters of mu per component = V = # dimensions\n",
    "    - # of parameters of Sigma per component for full Covariance matrix = V*(V+1)/2\n",
    "    or\n",
    "    - # of parameters of Sigma per component for just diagonal matrix = V\n",
    "\n",
    "For each components:\n",
    "    - # of parameters of pi: 1\n",
    "    - # of parameters of mu: 3\n",
    "    - # of parameters of Sigma for full Covariance matrix = 3*(3+1)/2 = 3 * 4/2 = 6\n",
    "    \n",
    "Total # of parameters for each components: 1 + 3 + 6 = 10\n",
    "\n",
    "Total # of parameters: 10 * num of cluster (components) = $10 * 4$ = 40"
   ]
  },
  {
   "cell_type": "markdown",
   "metadata": {},
   "source": [
    "# Question 7\n",
    "\n",
    "<img src=\"images/Screen Shot 2016-07-22 at 11.27.44 PM.png\">\n",
    "\n",
    "*Screenshot taken from [Coursera](https://www.coursera.org/learn/ml-clustering-and-retrieval/exam/QVHj1/em-for-gaussian-mixtures)*\n",
    "\n",
    "<!--TEASER_END-->"
   ]
  },
  {
   "cell_type": "markdown",
   "metadata": {},
   "source": [
    "**Answer**\n",
    "\n",
    "For each components:\n",
    "    - # of parameters of pi: 1\n",
    "    - # of parameters of mu: 4\n",
    "    - # of parameters of Sigma for diagonal covariance matrices = 4\n",
    "    \n",
    "Total # of parameters for each components: 1 + 4 + 4 = 9\n",
    "\n",
    "Total # of parameters: 9 * num of cluster (components) = $9 * 5$ = 45"
   ]
  },
  {
   "cell_type": "markdown",
   "metadata": {},
   "source": [
    "# Question 8\n",
    "\n",
    "<img src=\"images/Screen Shot 2016-07-22 at 11.10.24 PM.png\">\n",
    "\n",
    "*Screenshot taken from [Coursera](https://www.coursera.org/learn/ml-clustering-and-retrieval/exam/QVHj1/em-for-gaussian-mixtures)*\n",
    "\n",
    "<!--TEASER_END-->"
   ]
  },
  {
   "cell_type": "markdown",
   "metadata": {},
   "source": [
    "# Question 9\n",
    "\n",
    "<img src=\"images/Screen Shot 2016-07-22 at 11.31.56 PM.png\">\n",
    "<img src=\"images/Screen Shot 2016-07-22 at 11.32.06 PM.png\">\n",
    "<img src=\"images/Screen Shot 2016-07-22 at 11.32.13 PM.png\">\n",
    "\n",
    "*Screenshot taken from [Coursera](https://www.coursera.org/learn/ml-clustering-and-retrieval/exam/QVHj1/em-for-gaussian-mixtures)*\n",
    "\n",
    "<!--TEASER_END-->"
   ]
  }
 ],
 "metadata": {
  "kernelspec": {
   "display_name": "Python 2",
   "language": "python",
   "name": "python2"
  },
  "language_info": {
   "codemirror_mode": {
    "name": "ipython",
    "version": 2
   },
   "file_extension": ".py",
   "mimetype": "text/x-python",
   "name": "python",
   "nbconvert_exporter": "python",
   "pygments_lexer": "ipython2",
   "version": "2.7.12"
  },
  "toc": {
   "toc_cell": false,
   "toc_number_sections": false,
   "toc_threshold": "8",
   "toc_window_display": false
  }
 },
 "nbformat": 4,
 "nbformat_minor": 0
}
